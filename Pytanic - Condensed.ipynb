{
 "cells": [
  {
   "cell_type": "code",
   "execution_count": 2,
   "id": "62796156-381f-4716-aed3-d4e637f88ac3",
   "metadata": {},
   "outputs": [
    {
     "name": "stderr",
     "output_type": "stream",
     "text": [
      "C:\\Users\\esago\\AppData\\Local\\Temp\\ipykernel_7284\\1026401302.py:34: FutureWarning: A value is trying to be set on a copy of a DataFrame or Series through chained assignment using an inplace method.\n",
      "The behavior will change in pandas 3.0. This inplace method will never work because the intermediate object on which we are setting values always behaves as a copy.\n",
      "\n",
      "For example, when doing 'df[col].method(value, inplace=True)', try using 'df.method({col: value}, inplace=True)' or df[col] = df[col].method(value) instead, to perform the operation inplace on the original object.\n",
      "\n",
      "\n",
      "  df[\"Age\"].fillna(df[\"Age\"].median(), inplace=True)\n",
      "C:\\Users\\esago\\AppData\\Local\\Temp\\ipykernel_7284\\1026401302.py:35: FutureWarning: A value is trying to be set on a copy of a DataFrame or Series through chained assignment using an inplace method.\n",
      "The behavior will change in pandas 3.0. This inplace method will never work because the intermediate object on which we are setting values always behaves as a copy.\n",
      "\n",
      "For example, when doing 'df[col].method(value, inplace=True)', try using 'df.method({col: value}, inplace=True)' or df[col] = df[col].method(value) instead, to perform the operation inplace on the original object.\n",
      "\n",
      "\n",
      "  df[\"Fare\"].fillna(df[\"Fare\"].median(), inplace=True)\n",
      "C:\\Users\\esago\\AppData\\Local\\Temp\\ipykernel_7284\\1026401302.py:36: FutureWarning: A value is trying to be set on a copy of a DataFrame or Series through chained assignment using an inplace method.\n",
      "The behavior will change in pandas 3.0. This inplace method will never work because the intermediate object on which we are setting values always behaves as a copy.\n",
      "\n",
      "For example, when doing 'df[col].method(value, inplace=True)', try using 'df.method({col: value}, inplace=True)' or df[col] = df[col].method(value) instead, to perform the operation inplace on the original object.\n",
      "\n",
      "\n",
      "  df[\"Embarked\"].fillna(\"S\", inplace=True)\n",
      "C:\\Users\\esago\\AppData\\Local\\Temp\\ipykernel_7284\\1026401302.py:40: FutureWarning: A value is trying to be set on a copy of a DataFrame or Series through chained assignment using an inplace method.\n",
      "The behavior will change in pandas 3.0. This inplace method will never work because the intermediate object on which we are setting values always behaves as a copy.\n",
      "\n",
      "For example, when doing 'df[col].method(value, inplace=True)', try using 'df.method({col: value}, inplace=True)' or df[col] = df[col].method(value) instead, to perform the operation inplace on the original object.\n",
      "\n",
      "\n",
      "  df.Sex.replace((\"male\", \"female\"), (0, 1), inplace=True)\n",
      "C:\\Users\\esago\\AppData\\Local\\Temp\\ipykernel_7284\\1026401302.py:40: FutureWarning: Downcasting behavior in `replace` is deprecated and will be removed in a future version. To retain the old behavior, explicitly call `result.infer_objects(copy=False)`. To opt-in to the future behavior, set `pd.set_option('future.no_silent_downcasting', True)`\n",
      "  df.Sex.replace((\"male\", \"female\"), (0, 1), inplace=True)\n",
      "C:\\Users\\esago\\AppData\\Local\\Temp\\ipykernel_7284\\1026401302.py:41: FutureWarning: A value is trying to be set on a copy of a DataFrame or Series through chained assignment using an inplace method.\n",
      "The behavior will change in pandas 3.0. This inplace method will never work because the intermediate object on which we are setting values always behaves as a copy.\n",
      "\n",
      "For example, when doing 'df[col].method(value, inplace=True)', try using 'df.method({col: value}, inplace=True)' or df[col] = df[col].method(value) instead, to perform the operation inplace on the original object.\n",
      "\n",
      "\n",
      "  df.Embarked.replace((\"S\", \"C\", \"Q\"), (0, 1, 2), inplace=True)\n",
      "C:\\Users\\esago\\AppData\\Local\\Temp\\ipykernel_7284\\1026401302.py:41: FutureWarning: Downcasting behavior in `replace` is deprecated and will be removed in a future version. To retain the old behavior, explicitly call `result.infer_objects(copy=False)`. To opt-in to the future behavior, set `pd.set_option('future.no_silent_downcasting', True)`\n",
      "  df.Embarked.replace((\"S\", \"C\", \"Q\"), (0, 1, 2), inplace=True)\n",
      "C:\\Users\\esago\\AppData\\Local\\Temp\\ipykernel_7284\\1026401302.py:42: FutureWarning: A value is trying to be set on a copy of a DataFrame or Series through chained assignment using an inplace method.\n",
      "The behavior will change in pandas 3.0. This inplace method will never work because the intermediate object on which we are setting values always behaves as a copy.\n",
      "\n",
      "For example, when doing 'df[col].method(value, inplace=True)', try using 'df.method({col: value}, inplace=True)' or df[col] = df[col].method(value) instead, to perform the operation inplace on the original object.\n",
      "\n",
      "\n",
      "  df.Title.replace((\"Mr\", \"Miss\", \"Mrs\", \"Master\", \"Dr\", \"Rev\", \"Royalty\", \"Officer\"), (0, 1, 2, 3, 4, 5, 6, 7), inplace=True)\n",
      "C:\\Users\\esago\\AppData\\Local\\Temp\\ipykernel_7284\\1026401302.py:42: FutureWarning: Downcasting behavior in `replace` is deprecated and will be removed in a future version. To retain the old behavior, explicitly call `result.infer_objects(copy=False)`. To opt-in to the future behavior, set `pd.set_option('future.no_silent_downcasting', True)`\n",
      "  df.Title.replace((\"Mr\", \"Miss\", \"Mrs\", \"Master\", \"Dr\", \"Rev\", \"Royalty\", \"Officer\"), (0, 1, 2, 3, 4, 5, 6, 7), inplace=True)\n"
     ]
    }
   ],
   "source": [
    "import pandas as pd\n",
    "from sklearn.model_selection import train_test_split\n",
    "import pickle\n",
    "from sklearn.ensemble import RandomForestClassifier\n",
    "from sklearn.metrics import accuracy_score\n",
    "\n",
    "df = pd.read_csv(\"titanic/train.csv\")\n",
    "\n",
    "def get_title(name):\n",
    "    if \".\" in name:\n",
    "        return name.split(\",\")[1].split(\".\")[0].strip()\n",
    "    else:\n",
    "        return \"Unknown\"\n",
    "\n",
    "# Normalize the titles\n",
    "def replace_titles(x):\n",
    "    title = x[\"Title\"]\n",
    "    if title in [\"Capt\", \"Col\", \"Major\"]:\n",
    "        return \"Officer\"\n",
    "    elif title in [\"Jonkheer\", \"Don\", \"the Countess\", \"Dona\", \"Lady\", \"Sir\"]:\n",
    "        return \"Royalty\"\n",
    "    elif title in [\"Mme\"]:\n",
    "        return \"Mrs\"\n",
    "    elif title in [\"Mlle\", \"Ms\"]:\n",
    "        return \"Miss\"\n",
    "    else:\n",
    "        return title\n",
    "\n",
    "df[\"Title\"] = df[\"Name\"].map(lambda x: get_title(x))\n",
    "\n",
    "df[\"Title\"] = df.apply(replace_titles, axis=1)\n",
    "\n",
    "df[\"Age\"].fillna(df[\"Age\"].median(), inplace=True)\n",
    "df[\"Fare\"].fillna(df[\"Fare\"].median(), inplace=True)\n",
    "df[\"Embarked\"].fillna(\"S\", inplace=True)\n",
    "df.drop(\"Cabin\", axis=1, inplace=True)\n",
    "df.drop(\"Ticket\", axis=1, inplace=True)\n",
    "df.drop(\"Name\", axis=1, inplace=True)\n",
    "df.Sex.replace((\"male\", \"female\"), (0, 1), inplace=True)\n",
    "df.Embarked.replace((\"S\", \"C\", \"Q\"), (0, 1, 2), inplace=True)\n",
    "df.Title.replace((\"Mr\", \"Miss\", \"Mrs\", \"Master\", \"Dr\", \"Rev\", \"Royalty\", \"Officer\"), (0, 1, 2, 3, 4, 5, 6, 7), inplace=True)\n",
    "\n",
    "x = df.drop([\"PassengerId\", \"Survived\"], axis=1)\n",
    "y = df[\"Survived\"]\n",
    "x_train, x_val, y_train, y_val = train_test_split(x, y, test_size = 0.1)\n",
    "randomforest = RandomForestClassifier()\n",
    "randomforest.fit(x_train, y_train)\n",
    "\n",
    "pickle.dump(randomforest, open(\"titanic_model.sav\", \"wb\"))"
   ]
  },
  {
   "cell_type": "code",
   "execution_count": 3,
   "id": "404c4b9a-d10a-4820-8b83-c61fcc849702",
   "metadata": {},
   "outputs": [],
   "source": [
    "def prediction_model(pclass, sex, age, sibsp, parch, fare, embarked, title):\n",
    "    x = [[pclass, sex, age, sibsp, parch, fare, embarked, title]]\n",
    "    randomforest = pickle.load(open(\"titanic_model.sav\", \"rb\"))\n",
    "    prediction = randomforest.predict(x)\n",
    "    print(prediction)"
   ]
  },
  {
   "cell_type": "code",
   "execution_count": 4,
   "id": "83f23d67-1ff4-42d0-9c16-5a3177c05e1c",
   "metadata": {},
   "outputs": [
    {
     "name": "stdout",
     "output_type": "stream",
     "text": [
      "[1]\n"
     ]
    },
    {
     "name": "stderr",
     "output_type": "stream",
     "text": [
      "C:\\Users\\esago\\AppData\\Local\\Programs\\Python\\Python313\\Lib\\site-packages\\sklearn\\utils\\validation.py:2749: UserWarning: X does not have valid feature names, but RandomForestClassifier was fitted with feature names\n",
      "  warnings.warn(\n"
     ]
    }
   ],
   "source": [
    "prediction_model(1,1,11,1,1,19,1,1)"
   ]
  }
 ],
 "metadata": {
  "kernelspec": {
   "display_name": "Python 3 (ipykernel)",
   "language": "python",
   "name": "python3"
  },
  "language_info": {
   "codemirror_mode": {
    "name": "ipython",
    "version": 3
   },
   "file_extension": ".py",
   "mimetype": "text/x-python",
   "name": "python",
   "nbconvert_exporter": "python",
   "pygments_lexer": "ipython3",
   "version": "3.13.3"
  }
 },
 "nbformat": 4,
 "nbformat_minor": 5
}
